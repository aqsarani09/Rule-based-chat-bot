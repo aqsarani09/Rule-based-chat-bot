{
 "cells": [
  {
   "cell_type": "code",
   "execution_count": null,
   "id": "b4a93164",
   "metadata": {},
   "outputs": [
    {
     "name": "stdout",
     "output_type": "stream",
     "text": [
      "chatbot: hi! how can I assit you today?\n",
      "you: hi\n",
      "chatbot: hi! how are you?\n",
      "you: how are you\n",
      "chatbot: Feel free to ask. I'm here to help!\n",
      "you: how created you\n",
      "chatbot: I was created by a programmer using python\n"
     ]
    }
   ],
   "source": [
    "def chatbot(user_input):\n",
    "    user_input=user_input.lower()\n",
    "    if \"hi\" in user_input:\n",
    "        return \"hi! how are you?\"\n",
    "    elif \"i am good what about you?\" in user_input:\n",
    "        return \"i am great! how can i help you?\"\n",
    "    elif \"what is your name\" in user_input:\n",
    "        return \"i am a catbot\"\n",
    "    elif \"how created you\" in user_input:\n",
    "        return \"I was created by a programmer using python\"\n",
    "    elif \"python is easy or difficlt langage?\" in user_input:\n",
    "        return \"Python is considered one of the easiest programming languages to learn\"\n",
    "    elif \"whats you'r purpose?\" in user_input:\n",
    "        return \"I'm here to answer your question and engage in conversation.\"\n",
    "    elif \"how old are you?\" in user_input:\n",
    "        return \"I dont have an age I am just a piece of software\"\n",
    "    elif \"how is the weather today\" in user_input:\n",
    "        return \"it look sunny today\"\n",
    "    elif \"bye\" in user_input:\n",
    "        return \"Goodbye! If you have more questions later, feel free to return\"\n",
    "    else:\n",
    "        return \"Feel free to ask. I'm here to help!\"\n",
    "    \n",
    "print (\"chatbot: hi! how can I assit you today?\")\n",
    "while True:\n",
    "    user_input = input (\"you: \")\n",
    "    if user_input.lower() == \"exit\":\n",
    "        break\n",
    "    response = chatbot(user_input)\n",
    "    print (\"chatbot:\" , response)"
   ]
  },
  {
   "cell_type": "code",
   "execution_count": null,
   "id": "a8cd7e48",
   "metadata": {},
   "outputs": [],
   "source": []
  }
 ],
 "metadata": {
  "kernelspec": {
   "display_name": "Python 3 (ipykernel)",
   "language": "python",
   "name": "python3"
  },
  "language_info": {
   "codemirror_mode": {
    "name": "ipython",
    "version": 3
   },
   "file_extension": ".py",
   "mimetype": "text/x-python",
   "name": "python",
   "nbconvert_exporter": "python",
   "pygments_lexer": "ipython3",
   "version": "3.11.4"
  }
 },
 "nbformat": 4,
 "nbformat_minor": 5
}
